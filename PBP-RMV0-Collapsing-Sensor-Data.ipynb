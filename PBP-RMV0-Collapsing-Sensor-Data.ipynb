{
 "cells": [
  {
   "cell_type": "markdown",
   "metadata": {},
   "source": [
    "## Predict Batch Perfromance\n",
    "### Grey Atom Hackthon 2 : Dec 17 to Jan 2nd\n",
    "#### Version 0 - Collapsing/Merging Sensor data"
   ]
  },
  {
   "cell_type": "markdown",
   "metadata": {},
   "source": [
    "Here the attempt is to combine the sensor data for each sensor, as there is high collinnearity between the readings for each sensor. By engineering the data into one or two columns we will be able to (a) reduce the number of features; and (b) remove multi-collinearity\n"
   ]
  },
  {
   "cell_type": "code",
   "execution_count": 2,
   "metadata": {},
   "outputs": [],
   "source": [
    "import numpy as np\n",
    "import pandas as pd\n",
    "import matplotlib.pyplot as plt\n",
    "import time\n",
    "%matplotlib inline"
   ]
  },
  {
   "cell_type": "code",
   "execution_count": 3,
   "metadata": {},
   "outputs": [],
   "source": [
    "# load the dataset\n",
    "pbp_org = pd.read_csv('Train.csv')\n"
   ]
  },
  {
   "cell_type": "code",
   "execution_count": 4,
   "metadata": {},
   "outputs": [
    {
     "data": {
      "text/plain": [
       "(34226, 16)"
      ]
     },
     "execution_count": 4,
     "metadata": {},
     "output_type": "execute_result"
    }
   ],
   "source": [
    "pbp_org.shape"
   ]
  },
  {
   "cell_type": "markdown",
   "metadata": {},
   "source": [
    "for each sensor\n",
    "- extact the seven reading\n",
    "- calculate the mean and std dev\n",
    "- determine the % deviation\n",
    "- save in a df\n"
   ]
  },
  {
   "cell_type": "code",
   "execution_count": 176,
   "metadata": {},
   "outputs": [
    {
     "name": "stdout",
     "output_type": "stream",
     "text": [
      "Calculating Spread for Sensor : -- 0-- 1-- 2-- 3-- 4-- 5-- 6-- 7-- 8-- 9-- 10-- 11-- 12-- 13-- 14-- 15-- 16-- 17-- 18-- 19-- 20-- 21-- 22-- 23-- 24-- 25-- 26-- 27-- 28-- 29-- 30-- 31-- 32-- 33-- 34-- 35-- 36-- 37-- 38-- 39-- 40-- 41-- 42-- 43-- 44-- 45-- 46-- 47-- 48-- 49-- 50-- 51-- 52-- 53-- 54\n",
      "\n",
      "Added -330 more MEAN columns\n",
      "Wall time: 1.46 s\n"
     ]
    }
   ],
   "source": [
    "%%time\n",
    "\n",
    "# Calculating the deviation (std/mean) for each sensor\n",
    "# using direct mean and std  method\n",
    "\n",
    "sensor_var = pbp_org.Id                                                                     # start with the batch ID\n",
    "print('Calculating Spread for Sensor : ', end = '')\n",
    "\n",
    "for sensor in range (0,55) :                                                                # for each sensor\n",
    "    colname = []\n",
    "    print ('--', sensor, end = '')\n",
    "    for reading in range (0,7) :                                                            # get the number of reading\n",
    "        colname += ['x' + str(sensor) + '_t' + str(reading)]                                # get column names\n",
    "        sensor_data = pbp_org[colname]                                                      # Extract data col for one sensor\n",
    "        sensor_desc = np.round(sensor_data.T.std() / sensor_data.T.mean() * 100, 3)         # find spread% (std to mean) for each batch\n",
    "        \n",
    "    sensor_var = pd.concat([sensor_var, sensor_desc], axis = 1)                             # build for each sensor\n",
    "    sensor_var.rename (columns = {0: 'x'+str(sensor)+'_spread'}, inplace = True)\n",
    "    \n",
    "sensor_var = pd.concat([sensor_var, pbp_org.y2], axis = 1)                                  # Append the batch result col i.e. y2\n",
    "\n",
    "\n",
    "print('\\n\\nAdded', sensor_var.shape[1] - pbp_org.shape[1], 'more MEAN columns')"
   ]
  },
  {
   "cell_type": "code",
   "execution_count": 177,
   "metadata": {},
   "outputs": [
    {
     "data": {
      "text/html": [
       "<div>\n",
       "<style scoped>\n",
       "    .dataframe tbody tr th:only-of-type {\n",
       "        vertical-align: middle;\n",
       "    }\n",
       "\n",
       "    .dataframe tbody tr th {\n",
       "        vertical-align: top;\n",
       "    }\n",
       "\n",
       "    .dataframe thead th {\n",
       "        text-align: right;\n",
       "    }\n",
       "</style>\n",
       "<table border=\"1\" class=\"dataframe\">\n",
       "  <thead>\n",
       "    <tr style=\"text-align: right;\">\n",
       "      <th></th>\n",
       "      <th>Id</th>\n",
       "      <th>x0_spread</th>\n",
       "      <th>x1_spread</th>\n",
       "      <th>x2_spread</th>\n",
       "      <th>x3_spread</th>\n",
       "      <th>x4_spread</th>\n",
       "      <th>x5_spread</th>\n",
       "      <th>x6_spread</th>\n",
       "      <th>x7_spread</th>\n",
       "      <th>x8_spread</th>\n",
       "    </tr>\n",
       "  </thead>\n",
       "  <tbody>\n",
       "    <tr>\n",
       "      <th>0</th>\n",
       "      <td>706</td>\n",
       "      <td>0.980</td>\n",
       "      <td>20.964</td>\n",
       "      <td>0.0</td>\n",
       "      <td>11.732</td>\n",
       "      <td>1.123</td>\n",
       "      <td>0.438</td>\n",
       "      <td>0.336</td>\n",
       "      <td>0.288</td>\n",
       "      <td>0.000</td>\n",
       "    </tr>\n",
       "    <tr>\n",
       "      <th>1</th>\n",
       "      <td>239</td>\n",
       "      <td>1.081</td>\n",
       "      <td>4.019</td>\n",
       "      <td>0.0</td>\n",
       "      <td>0.405</td>\n",
       "      <td>0.000</td>\n",
       "      <td>1.782</td>\n",
       "      <td>0.000</td>\n",
       "      <td>0.000</td>\n",
       "      <td>0.000</td>\n",
       "    </tr>\n",
       "    <tr>\n",
       "      <th>2</th>\n",
       "      <td>613</td>\n",
       "      <td>0.751</td>\n",
       "      <td>28.181</td>\n",
       "      <td>0.0</td>\n",
       "      <td>12.916</td>\n",
       "      <td>0.000</td>\n",
       "      <td>12.506</td>\n",
       "      <td>0.149</td>\n",
       "      <td>0.055</td>\n",
       "      <td>0.000</td>\n",
       "    </tr>\n",
       "    <tr>\n",
       "      <th>3</th>\n",
       "      <td>588</td>\n",
       "      <td>1.018</td>\n",
       "      <td>31.037</td>\n",
       "      <td>0.0</td>\n",
       "      <td>0.770</td>\n",
       "      <td>0.000</td>\n",
       "      <td>0.660</td>\n",
       "      <td>0.149</td>\n",
       "      <td>0.055</td>\n",
       "      <td>0.000</td>\n",
       "    </tr>\n",
       "    <tr>\n",
       "      <th>4</th>\n",
       "      <td>780</td>\n",
       "      <td>1.039</td>\n",
       "      <td>31.087</td>\n",
       "      <td>0.0</td>\n",
       "      <td>27.669</td>\n",
       "      <td>0.555</td>\n",
       "      <td>0.879</td>\n",
       "      <td>1.132</td>\n",
       "      <td>2.853</td>\n",
       "      <td>0.000</td>\n",
       "    </tr>\n",
       "    <tr>\n",
       "      <th>...</th>\n",
       "      <td>...</td>\n",
       "      <td>...</td>\n",
       "      <td>...</td>\n",
       "      <td>...</td>\n",
       "      <td>...</td>\n",
       "      <td>...</td>\n",
       "      <td>...</td>\n",
       "      <td>...</td>\n",
       "      <td>...</td>\n",
       "      <td>...</td>\n",
       "    </tr>\n",
       "    <tr>\n",
       "      <th>789</th>\n",
       "      <td>835</td>\n",
       "      <td>0.946</td>\n",
       "      <td>29.064</td>\n",
       "      <td>0.0</td>\n",
       "      <td>14.356</td>\n",
       "      <td>2.306</td>\n",
       "      <td>1.634</td>\n",
       "      <td>0.530</td>\n",
       "      <td>0.505</td>\n",
       "      <td>0.000</td>\n",
       "    </tr>\n",
       "    <tr>\n",
       "      <th>790</th>\n",
       "      <td>192</td>\n",
       "      <td>1.524</td>\n",
       "      <td>43.704</td>\n",
       "      <td>0.0</td>\n",
       "      <td>1.968</td>\n",
       "      <td>2.306</td>\n",
       "      <td>0.770</td>\n",
       "      <td>2.243</td>\n",
       "      <td>1.098</td>\n",
       "      <td>0.843</td>\n",
       "    </tr>\n",
       "    <tr>\n",
       "      <th>791</th>\n",
       "      <td>629</td>\n",
       "      <td>1.301</td>\n",
       "      <td>20.865</td>\n",
       "      <td>0.0</td>\n",
       "      <td>13.227</td>\n",
       "      <td>0.000</td>\n",
       "      <td>0.847</td>\n",
       "      <td>0.149</td>\n",
       "      <td>0.055</td>\n",
       "      <td>0.000</td>\n",
       "    </tr>\n",
       "    <tr>\n",
       "      <th>792</th>\n",
       "      <td>559</td>\n",
       "      <td>0.935</td>\n",
       "      <td>14.085</td>\n",
       "      <td>0.0</td>\n",
       "      <td>35.120</td>\n",
       "      <td>0.000</td>\n",
       "      <td>0.427</td>\n",
       "      <td>0.000</td>\n",
       "      <td>0.000</td>\n",
       "      <td>0.000</td>\n",
       "    </tr>\n",
       "    <tr>\n",
       "      <th>793</th>\n",
       "      <td>684</td>\n",
       "      <td>0.750</td>\n",
       "      <td>26.521</td>\n",
       "      <td>0.0</td>\n",
       "      <td>0.694</td>\n",
       "      <td>1.123</td>\n",
       "      <td>0.697</td>\n",
       "      <td>0.336</td>\n",
       "      <td>0.288</td>\n",
       "      <td>0.000</td>\n",
       "    </tr>\n",
       "  </tbody>\n",
       "</table>\n",
       "<p>794 rows × 10 columns</p>\n",
       "</div>"
      ],
      "text/plain": [
       "      Id  x0_spread  x1_spread  x2_spread  x3_spread  x4_spread  x5_spread  \\\n",
       "0    706      0.980     20.964        0.0     11.732      1.123      0.438   \n",
       "1    239      1.081      4.019        0.0      0.405      0.000      1.782   \n",
       "2    613      0.751     28.181        0.0     12.916      0.000     12.506   \n",
       "3    588      1.018     31.037        0.0      0.770      0.000      0.660   \n",
       "4    780      1.039     31.087        0.0     27.669      0.555      0.879   \n",
       "..   ...        ...        ...        ...        ...        ...        ...   \n",
       "789  835      0.946     29.064        0.0     14.356      2.306      1.634   \n",
       "790  192      1.524     43.704        0.0      1.968      2.306      0.770   \n",
       "791  629      1.301     20.865        0.0     13.227      0.000      0.847   \n",
       "792  559      0.935     14.085        0.0     35.120      0.000      0.427   \n",
       "793  684      0.750     26.521        0.0      0.694      1.123      0.697   \n",
       "\n",
       "     x6_spread  x7_spread  x8_spread  \n",
       "0        0.336      0.288      0.000  \n",
       "1        0.000      0.000      0.000  \n",
       "2        0.149      0.055      0.000  \n",
       "3        0.149      0.055      0.000  \n",
       "4        1.132      2.853      0.000  \n",
       "..         ...        ...        ...  \n",
       "789      0.530      0.505      0.000  \n",
       "790      2.243      1.098      0.843  \n",
       "791      0.149      0.055      0.000  \n",
       "792      0.000      0.000      0.000  \n",
       "793      0.336      0.288      0.000  \n",
       "\n",
       "[794 rows x 10 columns]"
      ]
     },
     "execution_count": 177,
     "metadata": {},
     "output_type": "execute_result"
    }
   ],
   "source": [
    "sensor_var.iloc[:, 0:10]"
   ]
  },
  {
   "cell_type": "code",
   "execution_count": 179,
   "metadata": {},
   "outputs": [
    {
     "data": {
      "text/plain": [
       "<pandasgui.gui.PandasGui at 0x21f5d770e58>"
      ]
     },
     "execution_count": 179,
     "metadata": {},
     "output_type": "execute_result"
    }
   ],
   "source": [
    "show(sensor_var)"
   ]
  },
  {
   "cell_type": "markdown",
   "metadata": {},
   "source": [
    "ANALYSIS: \n",
    "The above df 'sensor_var' show the spread among the 't0' to 't6' readings for each sensor.\n",
    "The ASSUMPTION is that for a normal process, the reading should not vary by much, and hence the spread (here std-dev / mean) should not be wide. \n",
    "\n",
    "For abmost 20 sensors, this variation is under 5%, and for the others it is much higher.\n",
    "\n",
    "Possible INTUTION is :\n",
    "- The sensors where the reading is in the narrow range, the readings columns would be collinear, and hence ONLY one of the readings column should be used. Question is which one?\n",
    "- The sendors where the the reading is in a wide range, there is little co-realation among the readings, and hence all the columns can be used.\n",
    "\n",
    "reading the sensor spread table\n",
    "\n",
    "- 1,3,9, 11, 15, 19, 24, 26, 28, 29, 30  : Have high spreads\n",
    "- 25 : blanks\n",
    "- 28 : variation of 175% +\n",
    "- 37, 38 : high variation of 250% + AND many BLANKS \n",
    "- 2, 8 :  all zero\n",
    "\n"
   ]
  },
  {
   "cell_type": "markdown",
   "metadata": {},
   "source": [
    "#  \n",
    "#  \n",
    "#  \n",
    "### AVOID THE BELOW CODE . FOR TESTING AND VALIDATION PURPOSE ONLY"
   ]
  },
  {
   "cell_type": "code",
   "execution_count": 166,
   "metadata": {
    "scrolled": true
   },
   "outputs": [
    {
     "name": "stdout",
     "output_type": "stream",
     "text": [
      "Calculating Mean for Sensor : -- 0-- 1-- 2-- 3-- 4-- 5-- 6-- 7-- 8-- 9-- 10-- 11-- 12-- 13-- 14-- 15-- 16-- 17-- 18-- 19-- 20-- 21-- 22-- 23-- 24-- 25-- 26-- 27-- 28-- 29-- 30-- 31-- 32-- 33-- 34-- 35-- 36-- 37-- 38-- 39-- 40-- 41-- 42-- 43-- 44-- 45-- 46-- 47-- 48-- 49-- 50-- 51-- 52-- 53-- 54\n",
      "\n",
      "Added 55 more MEAN columns\n",
      "Wall time: 5min 58s\n"
     ]
    }
   ],
   "source": [
    "%%time\n",
    "\n",
    "# Calculating the deviation (std/mean) for each sensor\n",
    "# using .describe() method\n",
    "\n",
    "sensor_var = pbp_org.Id\n",
    "print('Calculating Mean for Sensor : ', end = '')\n",
    "\n",
    "for sensor in range (0,55) :\n",
    "    colname = []\n",
    "    print ('--', sensor, end = '')\n",
    "    for reading in range (0,7) :\n",
    "        colname += ['x' + str(sensor) + '_t' + str(reading)]   # get column names\n",
    "        sensor_data = pbp_org[colname]\n",
    "        sensor_desc = sensor_data.T.describe().T               # VERY CPU RESOURCE INTENSIVE : AVOID\n",
    "        sensor_data = pd.concat([sensor_data, sensor_desc['std'] / sensor_desc['mean']],axis = 1)\n",
    "        sensor_data.rename (columns = {0: 'x'+str(sensor)+'_mean'}, inplace = True)\n",
    "        \n",
    "    sensor_var = pd.concat([sensor_var, sensor_data], axis = 1)\n",
    "    \n",
    "sensor_var = pd.concat([sensor_var, pbp_org.y2], axis = 1)\n",
    "\n",
    "print('\\n\\nAdded', sensor_var.shape[1] - pbp_org.shape[1], 'more MEAN columns')\n",
    "\n",
    "\n",
    "# NOTE :\n",
    "# this is a VERY RESOURCE INTENSIVE code. This is due to this stmt : sensor_data.T.describe().T"
   ]
  }
 ],
 "metadata": {
  "kernelspec": {
   "display_name": "Python 3",
   "language": "python",
   "name": "python3"
  },
  "language_info": {
   "codemirror_mode": {
    "name": "ipython",
    "version": 3
   },
   "file_extension": ".py",
   "mimetype": "text/x-python",
   "name": "python",
   "nbconvert_exporter": "python",
   "pygments_lexer": "ipython3",
   "version": "3.7.6"
  }
 },
 "nbformat": 4,
 "nbformat_minor": 4
}
